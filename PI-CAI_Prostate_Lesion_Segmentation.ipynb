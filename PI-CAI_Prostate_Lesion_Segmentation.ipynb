{
 "cells": [
  {
   "cell_type": "code",
   "execution_count": 8,
   "id": "0643f151",
   "metadata": {},
   "outputs": [],
   "source": [
    "import os\n",
    "import nibabel as nib\n",
    "from nibabel.testing import data_path\n",
    "import numpy as np\n",
    "import matplotlib.pyplot as plt\n",
    "import cv2\n",
    "import torch\n",
    "import tensorflow as tf\n",
    "from tqdm import tqdm\n",
    "import skimage.transform as skTrans"
   ]
  },
  {
   "cell_type": "code",
   "execution_count": 9,
   "id": "db60a0e3",
   "metadata": {},
   "outputs": [],
   "source": [
    "IMG_WIDTH=640\n",
    "IMG_HEIGHT=640\n",
    "IMG_CHANNELS=3"
   ]
  },
  {
   "cell_type": "code",
   "execution_count": 10,
   "id": "b8bbf1c9",
   "metadata": {},
   "outputs": [],
   "source": [
    "seed=40\n",
    "np.random.seed=seed"
   ]
  },
  {
   "cell_type": "markdown",
   "id": "f8db7c49",
   "metadata": {},
   "source": [
    "# Try Outs"
   ]
  },
  {
   "cell_type": "code",
   "execution_count": 11,
   "id": "517edd27",
   "metadata": {},
   "outputs": [
    {
     "data": {
      "text/plain": [
       "(1024, 1024, 27)"
      ]
     },
     "execution_count": 11,
     "metadata": {},
     "output_type": "execute_result"
    }
   ],
   "source": [
    "adc_path=r\"/Users/wangkuancheng/Dropbox/Mac/Desktop/AI_Precision_Lab/Prostate_Image_Cancer_AI/ProstateMRI/10111/registered_adc_10111_nyul.nii\"\n",
    "adc=nib.load(adc_path).get_fdata()\n",
    "adc.shape"
   ]
  },
  {
   "cell_type": "code",
   "execution_count": 12,
   "id": "60c0ac70",
   "metadata": {},
   "outputs": [
    {
     "data": {
      "text/plain": [
       "(384, 384, 19)"
      ]
     },
     "execution_count": 12,
     "metadata": {},
     "output_type": "execute_result"
    }
   ],
   "source": [
    "hbv_path=r\"/Users/wangkuancheng/Dropbox/Mac/Desktop/AI_Precision_Lab/Prostate_Image_Cancer_AI/ProstateMRI/10005/registered_hbv_10005_nyul.nii\"\n",
    "hbv=nib.load(hbv_path).get_fdata()\n",
    "hbv.shape"
   ]
  },
  {
   "cell_type": "code",
   "execution_count": 13,
   "id": "39cfa8e6",
   "metadata": {},
   "outputs": [
    {
     "data": {
      "text/plain": [
       "(384, 384, 19)"
      ]
     },
     "execution_count": 13,
     "metadata": {},
     "output_type": "execute_result"
    }
   ],
   "source": [
    "t2w_path=r\"/Users/wangkuancheng/Dropbox/Mac/Desktop/AI_Precision_Lab/Prostate_Image_Cancer_AI/ProstateMRI/10005/t2w_10005_nyul.nii\"\n",
    "t2w=nib.load(t2w_path).get_fdata()\n",
    "t2w.shape"
   ]
  },
  {
   "cell_type": "code",
   "execution_count": 14,
   "id": "29ce00c7",
   "metadata": {},
   "outputs": [
    {
     "name": "stdout",
     "output_type": "stream",
     "text": [
      "(384, 384, 19)\n"
     ]
    },
    {
     "data": {
      "text/plain": [
       "True"
      ]
     },
     "execution_count": 14,
     "metadata": {},
     "output_type": "execute_result"
    }
   ],
   "source": [
    "Prostate_Whole_Gland_Mask_path=r\"/Users/wangkuancheng/Dropbox/Mac/Desktop/AI_Precision_Lab/Prostate_Image_Cancer_AI/Prostate_Whole_Gland_Mask/10005_1000005.nii\"\n",
    "Prostate_Whole_Gland_Mask=nib.load(Prostate_Whole_Gland_Mask_path).get_fdata()\n",
    "#check if a slice contains mask(slice contains non-zero value)\n",
    "print(Prostate_Whole_Gland_Mask.shape)\n",
    "np.any(Prostate_Whole_Gland_Mask[:,:,10])"
   ]
  },
  {
   "cell_type": "code",
   "execution_count": 15,
   "id": "33d3ccb5",
   "metadata": {},
   "outputs": [
    {
     "data": {
      "text/plain": [
       "<matplotlib.image.AxesImage at 0x7fae05528a60>"
      ]
     },
     "execution_count": 15,
     "metadata": {},
     "output_type": "execute_result"
    },
    {
     "data": {
      "image/png": "[encoded data removed]",
      "text/plain": [
       "<Figure size 432x288 with 1 Axes>"
      ]
     },
     "metadata": {
      "needs_background": "light"
     },
     "output_type": "display_data"
    }
   ],
   "source": [
    "t2w_masked=t2w*Prostate_Whole_Gland_Mask\n",
    "plt.imshow(t2w_masked[:,:,14],cmap='gray')"
   ]
  },
  {
   "cell_type": "markdown",
   "id": "f91268f0",
   "metadata": {},
   "source": [
    "# Data Pre-processing"
   ]
  },
  {
   "cell_type": "code",
   "execution_count": 51,
   "id": "237a0965",
   "metadata": {},
   "outputs": [],
   "source": [
    "#This method will generate the Prostate Whole Gland Mask and Lesion Mask file_name for a given patient\n",
    "def mask_file_format(patient_num):\n",
    "    s=str()\n",
    "    if(patient_num%10000<=129):\n",
    "        s=str(patient_num)+\"_\"+str(patient_num%10000+1000000)\n",
    "    if(patient_num%10000>=130 and patient_num%10000<=131):\n",
    "        s=str(patient_num)+\"_\"+str((patient_num%10000+1000000)+1)\n",
    "    if(patient_num%10000>=132 and patient_num%10000<=153):\n",
    "        s=str(patient_num)+\"_\"+str((patient_num%10000+1000000)+2)\n",
    "    if(patient_num%10000>=154 and patient_num%10000<=193):\n",
    "        s=str(patient_num)+\"_\"+str((patient_num%10000+1000000)+3)\n",
    "    if(patient_num%10000>=194 and patient_num%10000<=273):\n",
    "        s=str(patient_num)+\"_\"+str((patient_num%10000+1000000)+4)\n",
    "    if(patient_num%10000>=274 and patient_num%10000<=281):\n",
    "        s=str(patient_num)+\"_\"+str((patient_num%10000+1000000)+5)\n",
    "    if(patient_num%10000>=282 and patient_num%10000<=404):\n",
    "        s=str(patient_num)+\"_\"+str((patient_num%10000+1000000)+6)\n",
    "    if(patient_num%10000>=405 and patient_num%10000<=417):\n",
    "        s=str(patient_num)+\"_\"+str((patient_num%10000+1000000)+7)\n",
    "    if(patient_num%10000>=418 and patient_num%10000<=490):\n",
    "        s=str(patient_num)+\"_\"+str((patient_num%10000+1000000)+8)\n",
    "    if(patient_num%10000>=491 and patient_num%10000<=512):\n",
    "        s=str(patient_num)+\"_\"+str((patient_num%10000+1000000)+9)\n",
    "    if(patient_num%10000>=513 and patient_num%10000<=540):\n",
    "        s=str(patient_num)+\"_\"+str((patient_num%10000+1000000)+10)\n",
    "    if(patient_num%10000>=541 and patient_num%10000<=548):\n",
    "        s=str(patient_num)+\"_\"+str((patient_num%10000+1000000)+11)\n",
    "    if(patient_num%10000>=549 and patient_num%10000<=576):\n",
    "        s=str(patient_num)+\"_\"+str((patient_num%10000+1000000)+12)\n",
    "    if(patient_num%10000>=577 and patient_num%10000<=580):\n",
    "        s=str(patient_num)+\"_\"+str((patient_num%10000+1000000)+13)\n",
    "    if(patient_num%10000>=581 and patient_num%10000<=629):\n",
    "        s=str(patient_num)+\"_\"+str((patient_num%10000+1000000)+14)\n",
    "    if(patient_num%10000>=630 and patient_num%10000<=634):\n",
    "        s=str(patient_num)+\"_\"+str((patient_num%10000+1000000)+15)\n",
    "    if(patient_num%10000>=635 and patient_num%10000<=905):\n",
    "        s=str(patient_num)+\"_\"+str((patient_num%10000+1000000)+16)\n",
    "    if(patient_num%10000>=906 and patient_num%10000<=936):\n",
    "        s=str(patient_num)+\"_\"+str((patient_num%10000+1000000)+17)\n",
    "    if(patient_num%10000>=937 and patient_num%10000<=1004):\n",
    "        s=str(patient_num)+\"_\"+str((patient_num%10000+1000000)+19)\n",
    "    if(patient_num%10000>=1005 and patient_num%10000<=1054):\n",
    "        s=str(patient_num)+\"_\"+str((patient_num%10000+1000000)+20)\n",
    "    if(patient_num%10000>=1055 and patient_num%10000<=1059):\n",
    "        s=str(patient_num)+\"_\"+str((patient_num%10000+1000000)+21)\n",
    "    if(patient_num%10000>=1060 and patient_num%10000<=1087):\n",
    "        s=str(patient_num)+\"_\"+str((patient_num%10000+1000000)+22)\n",
    "    if(patient_num%10000>=1088 and patient_num%10000<=1383):\n",
    "        s=str(patient_num)+\"_\"+str((patient_num%10000+1000000)+23)\n",
    "    if(patient_num%10000>=1384 and patient_num%10000<=1475):\n",
    "        s=str(patient_num)+\"_\"+str((patient_num%10000+1000000)+24)\n",
    "    return s;"
   ]
  },
  {
   "cell_type": "code",
   "execution_count": 17,
   "id": "744632f2",
   "metadata": {},
   "outputs": [
    {
     "data": {
      "text/plain": [
       "'11475_1001499'"
      ]
     },
     "execution_count": 17,
     "metadata": {},
     "output_type": "execute_result"
    }
   ],
   "source": [
    "mask_file_format(11475)"
   ]
  },
  {
   "cell_type": "code",
   "execution_count": 226,
   "id": "a4770afb",
   "metadata": {},
   "outputs": [],
   "source": [
    "#This method will load co-registered ADC, co-registered HBV, T2W, and Prostate Whole Gland Mask of a given patient\n",
    "def load_T2W_ADC_HBV_Whole_Gland_Mask(patient_num):\n",
    "    loaded_image=list()\n",
    "    #patient registered ADC path\n",
    "    adc_path=r\"/Users/wangkuancheng/Dropbox/Mac/Desktop/AI_Precision_Lab/Prostate_Image_Cancer_AI/ProstateMRI/\"+str(patient_num)+r\"/registered_adc_\"+str(patient_num)+r\"_nyul.nii\"\n",
    "    #patient registered HBV path\n",
    "    hbv_path=r\"/Users/wangkuancheng/Dropbox/Mac/Desktop/AI_Precision_Lab/Prostate_Image_Cancer_AI/ProstateMRI/\"+str(patient_num)+r\"/registered_hbv_\"+str(patient_num)+r\"_nyul.nii\"\n",
    "    #patient registered T2W path\n",
    "    t2w_path=r\"/Users/wangkuancheng/Dropbox/Mac/Desktop/AI_Precision_Lab/Prostate_Image_Cancer_AI/ProstateMRI/\"+str(patient_num)+r\"/t2w_\"+str(patient_num)+r\"_nyul.nii\"\n",
    "    #mask path\n",
    "    mask_path=r\"/Users/wangkuancheng/Dropbox/Mac/Desktop/AI_Precision_Lab/Prostate_Image_Cancer_AI/Prostate_Whole_Gland_Mask/\"+mask_file_format(patient_num)+r\".nii\"\n",
    "    \n",
    "    #get T2W file\n",
    "    t2w=nib.load(t2w_path).get_fdata()\n",
    "    t2w = skTrans.resize(t2w, (640,640,t2w.shape[2]), order=1, preserve_range=True)\n",
    "    loaded_image.append(t2w)\n",
    "    \n",
    "    #get registered ADC file\n",
    "    adc=nib.load(adc_path).get_fdata()\n",
    "    adc = skTrans.resize(adc, (640,640,adc.shape[2]), order=1, preserve_range=True)\n",
    "    loaded_image.append(adc)\n",
    "        \n",
    "    #get registered HBV file\n",
    "    hbv=nib.load(hbv_path).get_fdata()\n",
    "    hbv = skTrans.resize(hbv, (640,640,hbv.shape[2]), order=1, preserve_range=True)\n",
    "    loaded_image.append(hbv)\n",
    "        \n",
    "        \n",
    "    #mask\n",
    "    mask=nib.load(mask_path).get_fdata()\n",
    "    mask = skTrans.resize(mask, (640,640,mask.shape[2]), order=1, preserve_range=True)\n",
    "    loaded_image.append(mask)\n",
    "    \n",
    "    return loaded_image\n",
    "    "
   ]
  },
  {
   "cell_type": "code",
   "execution_count": 118,
   "id": "a161aabf",
   "metadata": {},
   "outputs": [],
   "source": [
    "#This method will check if a singke MRI image contains NaN value\n",
    "#It will return True if given image doesn't contain NaN.\n",
    "def NaN_checker(loaded_image):\n",
    "    for i in range(loaded_image.shape[2]):\n",
    "        if(True in np.isnan(loaded_image[:,:,i])):\n",
    "            return False\n",
    "    return True"
   ]
  },
  {
   "cell_type": "code",
   "execution_count": 126,
   "id": "2d2e11d4",
   "metadata": {},
   "outputs": [
    {
     "data": {
      "text/plain": [
       "True"
      ]
     },
     "execution_count": 126,
     "metadata": {},
     "output_type": "execute_result"
    }
   ],
   "source": [
    "NaN_checker(load_T2W_ADC_HBV_Whole_Gland_Mask(10342)[3])"
   ]
  },
  {
   "cell_type": "code",
   "execution_count": 112,
   "id": "73399a23",
   "metadata": {},
   "outputs": [],
   "source": [
    "#this method will mask the whole prostate gland on the given patients' ADC, HBV, T2W and output a list containing all the masked images\n",
    "#-----------------------------------------------------------------------------------------------------------#\n",
    "#In the returned prostate_whole_gland_masked_list, [0] is masked_T2W, [1] is masked_ADC, [2] is masked_HBV\n",
    "\n",
    "def prostate_whole_gland_masked(loaded_image_list):\n",
    "    prostate_whole_gland_masked_image_list=list()\n",
    "        \n",
    "    #prostate whole gland masked T2W\n",
    "    masked_T2W=loaded_image_list[0]*loaded_image_list[3]\n",
    "    prostate_whole_gland_masked_image_list.append(masked_T2W)\n",
    "    #prostate whole gland masked ADC\n",
    "    masked_ADC=loaded_image_list[1]*loaded_image_list[3]\n",
    "    prostate_whole_gland_masked_image_list.append(masked_ADC)\n",
    "    #prostate whole gland masked HBV\n",
    "    masked_HBV=loaded_image_list[2]*loaded_image_list[3]\n",
    "    prostate_whole_gland_masked_image_list.append(masked_HBV)\n",
    "\n",
    "  \n",
    "    return prostate_whole_gland_masked_image_list"
   ]
  },
  {
   "cell_type": "code",
   "execution_count": 115,
   "id": "8da3bec7",
   "metadata": {},
   "outputs": [
    {
     "data": {
      "text/plain": [
       "<matplotlib.image.AxesImage at 0x7f798e24cdc0>"
      ]
     },
     "execution_count": 115,
     "metadata": {},
     "output_type": "execute_result"
    },
    {
     "data": {
      "image/png": "[encoded data removed]",
      "text/plain": [
       "<Figure size 432x288 with 1 Axes>"
      ]
     },
     "metadata": {
      "needs_background": "light"
     },
     "output_type": "display_data"
    }
   ],
   "source": [
    "a=load_T2W_ADC_HBV_Whole_Gland_Mask(10005)\n",
    "plt.imshow(prostate_whole_gland_masked(a)[0][:,:,14],cmap='gray')"
   ]
  },
  {
   "cell_type": "code",
   "execution_count": 21,
   "id": "bb1d1108",
   "metadata": {},
   "outputs": [
    {
     "data": {
      "text/plain": [
       "52"
      ]
     },
     "execution_count": 21,
     "metadata": {},
     "output_type": "execute_result"
    }
   ],
   "source": [
    "#train dataset and test dataset\n",
    "Human_Annotated_Patient_List=[10005,10012,10019,10021,10032,10040,10043,10048,10059,10074,10078,10079,10085,10097,\n",
    "                              10103,10107,10110,10117,10118,10121,10134,10157,10164,10168,10202,10211,10216,10220,\n",
    "                              10233,10234,10241,10252,10257,10262,10268,10274,10289,10294,10304,10322,10329,10338,\n",
    "                              10339,10340,10342,10350,10355,10368,10372,10380,10383,10390,10392,10398,10405,10418,\n",
    "                              10424,10434,10442,10451,10463,10473,10482,10484,10486,10503,10522,10523,10526,10529,\n",
    "                              10539,10540,10549,10558,10568,10570,10589,10604,10605,10607,10620,10626,10635,10637,\n",
    "                              10641,10665,10668,10670,10687,10688,10699,10700,10707,10721,10726,10728,10730,10743,\n",
    "                              10768,10777,10798,10804,10807,10808,10825,10833,10834,10836,10839,10842,10867,10868,\n",
    "                              10872,10880,10885,10888,10895,10901,10910,10911,10915,10920,10921,10925,10932,10938,\n",
    "                              10942,10948,10953,10957,10961,10964,10968,10970,10975,10985,11002,11032,11039,11041,\n",
    "                              11049,11050,11051,11054,11063,11068,11076,11080,11086,11100,11102,11114,11122,11130,\n",
    "                              11137,11149,11152,11154,11155,11162,11163,11165,11168,11174,11177,11181,11185,11186,\n",
    "                              11188,11190,11194,11198,11208,11225,11229,11231,11236,11247,11253,11256,11257,11260,\n",
    "                              11269,11278,11280,11284,11299,11300,11305,11306,11330,11338,11345,11357,11361,11373,\n",
    "                              11375,11377,11382,11384,11385,11397,11423,11428,11441,11442,11444,11446,11447,11448,\n",
    "                              11450,11456,11462,11465,11471,11475]\n",
    "len(Human_Annotated_Patient_List)\n",
    "train_patient_list=[10005,10012,10019,10021,10032,10040,10043,10048,10059,10074,10078,10079,10085,10097,\n",
    "                              10103,10107,10110,10117,10118,10121,10134,10157,10164,10168,10202,10211,10216,10220,\n",
    "                              10233,10234,10241,10252,10257,10262,10268,10274,10289,10294,10304,10322,10329,10338,\n",
    "                              10339,10340,10342,10350,10355,10482,10484,10486,10503,10522,10523,10526,10529,\n",
    "                              10539,10549,10558,10568,10570,10589,10604,10605,10607,10620,10626,10635,10637,\n",
    "                              10641,10665,10668,10670,10687,10688,10699,10700,10707,10721,10726,10728,10730,10743,\n",
    "                              10768,10777,10798,10804,10807,10808,10825,10833,10834,10836,10839,10842,10867,10868,\n",
    "                              10872,10880,10885,10888,10895,10901,10910,10911,10915,10920,10921,10925,10932,10938,\n",
    "                              10942,10948,10953,10957,10961,10964,11163,11165,11168,11174,11177,11181,11185,11186,\n",
    "                              11188,11190,11194,11198,11208,11225,11229,11231,11236,11247,11253,11256,11257,11260,\n",
    "                              11269,11278,11280,11284,11299,11300,11305,11306,11330,11338,11345,11357,11361,11373,\n",
    "                              11375,11377,11382,11385,11397,11423,11428,11441,11446,11447]\n",
    "test_patient_list=[10368,10372,10380,10383,10390,10392,10398,10405,10418,\n",
    "                              10424,10434,10442,10451,10463,10473,10968,10970,10975,10985,11002,11032,11039,11041,\n",
    "                              11049,11050,11051,11054,11063,11068,11076,11080,11086,11100,11102,11114,11122,11130,\n",
    "                              11137,11149,11152,11154,11155,11162,11442,11444,11448,\n",
    "                              11450,11456,11462,11465,11471,11475]\n",
    "len(test_patient_list)"
   ]
  },
  {
   "cell_type": "code",
   "execution_count": 22,
   "id": "ef5df07d",
   "metadata": {},
   "outputs": [
    {
     "name": "stdout",
     "output_type": "stream",
     "text": [
      "10540\n",
      "11384\n"
     ]
    }
   ],
   "source": [
    "#check for the patient who have more than 1 prostate MRI datasets\n",
    "for i in Human_Annotated_Patient_List:\n",
    "    if(i==10153):\n",
    "        print(i)\n",
    "    if(i==10193):\n",
    "        print(i)\n",
    "    if(i==10273):\n",
    "        print(i)\n",
    "    if(i==10281):\n",
    "        print(i)\n",
    "    if(i==10404):\n",
    "        print(i)\n",
    "    if(i==10417):\n",
    "        print(i)\n",
    "    if(i==10490):\n",
    "        print(i)\n",
    "    if(i==10512):\n",
    "        print(i)\n",
    "    if(i==10540):\n",
    "        print(i)\n",
    "    if(i==10548):\n",
    "        print(i)\n",
    "    if(i==10576):\n",
    "        print(i)\n",
    "    if(i==10580):\n",
    "        print(i)\n",
    "    if(i==10629):\n",
    "        print(i)\n",
    "    if(i==10634):\n",
    "        print(i)\n",
    "    if(i==10905):\n",
    "        print(i)\n",
    "    if(i==10936):\n",
    "        print(i)\n",
    "    if(i==11004):\n",
    "        print(i)\n",
    "    if(i==11055):\n",
    "        print(i)\n",
    "    if(i==11060):\n",
    "        print(i)\n",
    "    if(i==11088):\n",
    "        print(i)\n",
    "    if(i==11384):\n",
    "        print(i)"
   ]
  },
  {
   "cell_type": "code",
   "execution_count": 23,
   "id": "40aa0522",
   "metadata": {},
   "outputs": [],
   "source": [
    "#find the slice num which contains the lesion mask\n",
    "def slices_containing_lesion_mask(lesion_mask):\n",
    "    slices_containing_lesion_masks=list()\n",
    "    for i in range(lesion_mask.shape[2]):\n",
    "        if np.any(lesion_mask[:,:,i]):\n",
    "            slices_containing_lesion_masks.append(i)\n",
    "    return slices_containing_lesion_masks"
   ]
  },
  {
   "cell_type": "code",
   "execution_count": 24,
   "id": "f78a3c8d",
   "metadata": {},
   "outputs": [],
   "source": [
    "#comebine certain slice of T2W, co-registered ADC, co-registered HBV together to make a 3 channel input for U-Net\n",
    "#the parameters should be a !!slice!! of T2W, co-registered ADC, co-registered HBV, not the whole image\n",
    "#make sure T2W, co-registered ADC, co-registered HBV slices have the same 2D dimension(column, row)\n",
    "\n",
    "def combine_T2W_ADC_HBV_slice_into_3_channels(T2W_slice, ADC_slice, HBV_slice):\n",
    "    combined_slice=np.zeros((T2W_slice.shape[0],T2W_slice.shape[1],3))\n",
    "    combined_slice[:,:,0]=T2W_slice\n",
    "    combined_slice[:,:,1]=ADC_slice\n",
    "    combined_slice[:,:,2]=HBV_slice\n",
    "    return combined_slice"
   ]
  },
  {
   "cell_type": "code",
   "execution_count": 102,
   "id": "536b80ff",
   "metadata": {},
   "outputs": [],
   "source": [
    "#convert the lesion mask into 3 channels\n",
    "def convert_lesion_mask_to_3_channels(lesion_mask_slice):\n",
    "    converted_slice=np.zeros((lesion_mask_slice.shape[0],lesion_mask_slice.shape[1],1))\n",
    "    converted_slice[:,:,0]=lesion_mask_slice\n",
    "    return converted_slice"
   ]
  },
  {
   "cell_type": "code",
   "execution_count": 144,
   "id": "0e2bff13",
   "metadata": {},
   "outputs": [
    {
     "data": {
      "text/plain": [
       "False"
      ]
     },
     "execution_count": 144,
     "metadata": {},
     "output_type": "execute_result"
    }
   ],
   "source": [
    "#initialize the train_prostate dataset and the train_mask_dataset\n",
    "train_prostate=np.zeros((len(train_patient_list)*19,IMG_HEIGHT,IMG_WIDTH,IMG_CHANNELS),dtype=np.float64)\n",
    "train_mask=np.zeros((len(train_patient_list)*19,IMG_HEIGHT,IMG_WIDTH,1),dtype=np.bool_)\n",
    "\n",
    "#check if there is any NaN value in the initialized dataset\n",
    "True in np.isnan(train_prostate)"
   ]
  },
  {
   "cell_type": "code",
   "execution_count": 145,
   "id": "60dc605f",
   "metadata": {},
   "outputs": [],
   "source": [
    "def Train_Dataset_Generator(train_patient_list):\n",
    "    index_tracker=0\n",
    "    for i in tqdm(range(len(train_patient_list))):\n",
    "        #load T2W, coregistered ADC, coregistered HBV and mask whole prostate gland on them\n",
    "        loaded_image_list=load_T2W_ADC_HBV_Whole_Gland_Mask(train_patient_list[i])\n",
    "        if(NaN_checker(loaded_image_list[0]) is False):\n",
    "            print(\"Patient \"+str(train_patient_list[i])+\" T2W has NaN value. Thus this patient won't be added to dataset\")\n",
    "        if(NaN_checker(loaded_image_list[1]) is False):\n",
    "            print(\"Patient's \"+str(train_patient_list[i])+\" ADC has NaN value. Thus this patient won't be added to dataset\")\n",
    "        if(NaN_checker(loaded_image_list[2]) is False):\n",
    "            print(\"Patient's \"+str(train_patient_list[i])+\" HBV has NaN value. Thus this patient won't be added to dataset\")\n",
    "        if(NaN_checker(loaded_image_list[3]) is False):\n",
    "            print(\"Patient's \"+str(train_patient_list[i])+\" Whole Gland Mask has NaN value. Thus this patient won't be added to dataset\")\n",
    "        if(NaN_checker(loaded_image_list[0]) and NaN_checker(loaded_image_list[1]) and NaN_checker(loaded_image_list[2]) and NaN_checker(loaded_image_list[3])):\n",
    "            whole_gland_masked_image=prostate_whole_gland_masked(loaded_image_list)\n",
    "            #load human-annotated lesion mask\n",
    "            lesion_mask_path=r\"/Users/wangkuancheng/Dropbox/Mac/Desktop/AI_Precision_Lab/Prostate_Image_Cancer_AI/human_annotated_masks/\"+mask_file_format(train_patient_list[i])+r\".nii\"\n",
    "            lesion_mask=nib.load(lesion_mask_path).get_fdata()\n",
    "            #resize lesion_mask to 640*640\n",
    "            lesion_mask = skTrans.resize(lesion_mask, (640,640,lesion_mask.shape[2]), order=1, preserve_range=True)\n",
    "            if(NaN_checker(lesion_mask) is False):\n",
    "                print(\"Patient's \"+str(train_patient_list[i])+\" Lesion Mask has NaN value. Thus this patient won't be added to dataset\")\n",
    "            else:\n",
    "                #list of slices with lesion mask available\n",
    "                slices_containing_lesion_masks=slices_containing_lesion_mask(lesion_mask)\n",
    "                for j in slices_containing_lesion_masks:\n",
    "                    #combined 3 channel T2W, ADC,HBV slices\n",
    "                    combined_slice_T2W_ADC_HBV=combine_T2W_ADC_HBV_slice_into_3_channels(whole_gland_masked_image[0][:,:,j],whole_gland_masked_image[1][:,:,j],whole_gland_masked_image[2][:,:,j])\n",
    "                    train_prostate[index_tracker]=combined_slice_T2W_ADC_HBV\n",
    "                    train_mask[index_tracker]=convert_lesion_mask_to_3_channels(lesion_mask[:,:,j])\n",
    "                    index_tracker=index_tracker+1\n",
    "    return index_tracker "
   ]
  },
  {
   "cell_type": "code",
   "execution_count": 146,
   "id": "251a1f27",
   "metadata": {},
   "outputs": [
    {
     "data": {
      "text/plain": [
       "(384, 384)"
      ]
     },
     "execution_count": 146,
     "metadata": {},
     "output_type": "execute_result"
    },
    {
     "data": {
      "image/png": "[encoded data removed]",
      "text/plain": [
       "<Figure size 432x288 with 1 Axes>"
      ]
     },
     "metadata": {
      "needs_background": "light"
     },
     "output_type": "display_data"
    }
   ],
   "source": [
    "import skimage.transform as skTrans\n",
    "lesion_mask_path=r\"/Users/wangkuancheng/Dropbox/Mac/Desktop/AI_Precision_Lab/Prostate_Image_Cancer_AI/human_annotated_masks/\"+mask_file_format(10012)+r\".nii\"\n",
    "lesion_mask=nib.load(lesion_mask_path).get_fdata()\n",
    "#lesion_mask = skTrans.resize(lesion_mask, (640,640,23), order=1, preserve_range=True)\n",
    "plt.imshow(lesion_mask[:,:,7],cmap='gray')\n",
    "lesion_mask[:,:,7].shape"
   ]
  },
  {
   "cell_type": "code",
   "execution_count": 147,
   "id": "b18b2d34",
   "metadata": {},
   "outputs": [
    {
     "name": "stderr",
     "output_type": "stream",
     "text": [
      "  1%|▌                                          | 2/162 [00:09<12:30,  4.69s/it]"
     ]
    },
    {
     "name": "stdout",
     "output_type": "stream",
     "text": [
      "Patient's 10012 HBV has NaN value. Thus this patient won't be added to dataset\n"
     ]
    },
    {
     "name": "stderr",
     "output_type": "stream",
     "text": [
      "  7%|██▊                                       | 11/162 [00:55<13:08,  5.22s/it]"
     ]
    },
    {
     "name": "stdout",
     "output_type": "stream",
     "text": [
      "Patient's 10078 HBV has NaN value. Thus this patient won't be added to dataset\n"
     ]
    },
    {
     "name": "stderr",
     "output_type": "stream",
     "text": [
      " 14%|█████▋                                    | 22/162 [02:09<13:42,  5.88s/it]"
     ]
    },
    {
     "name": "stdout",
     "output_type": "stream",
     "text": [
      "Patient's 10157 HBV has NaN value. Thus this patient won't be added to dataset\n"
     ]
    },
    {
     "name": "stderr",
     "output_type": "stream",
     "text": [
      " 43%|█████████████████▉                        | 69/162 [07:07<07:42,  4.97s/it]"
     ]
    },
    {
     "name": "stdout",
     "output_type": "stream",
     "text": [
      "Patient's 10641 HBV has NaN value. Thus this patient won't be added to dataset\n"
     ]
    },
    {
     "name": "stderr",
     "output_type": "stream",
     "text": [
      " 91%|█████████████████████████████████████▏   | 147/162 [15:44<01:34,  6.31s/it]"
     ]
    },
    {
     "name": "stdout",
     "output_type": "stream",
     "text": [
      "Patient's 11330 HBV has NaN value. Thus this patient won't be added to dataset\n"
     ]
    },
    {
     "name": "stderr",
     "output_type": "stream",
     "text": [
      "100%|█████████████████████████████████████████| 162/162 [17:26<00:00,  6.46s/it]\n"
     ]
    }
   ],
   "source": [
    "x=Train_Dataset_Generator(train_patient_list)"
   ]
  },
  {
   "cell_type": "code",
   "execution_count": 148,
   "id": "f5d5f152",
   "metadata": {},
   "outputs": [
    {
     "data": {
      "text/plain": [
       "905"
      ]
     },
     "execution_count": 148,
     "metadata": {},
     "output_type": "execute_result"
    }
   ],
   "source": [
    "x"
   ]
  },
  {
   "cell_type": "code",
   "execution_count": 149,
   "id": "13657885",
   "metadata": {},
   "outputs": [
    {
     "data": {
      "text/plain": [
       "False"
      ]
     },
     "execution_count": 149,
     "metadata": {},
     "output_type": "execute_result"
    }
   ],
   "source": [
    "#expect FALSE\n",
    "True in np.isnan(train_prostate)"
   ]
  },
  {
   "cell_type": "code",
   "execution_count": 155,
   "id": "38081dfd",
   "metadata": {},
   "outputs": [
    {
     "data": {
      "text/plain": [
       "False"
      ]
     },
     "execution_count": 155,
     "metadata": {},
     "output_type": "execute_result"
    }
   ],
   "source": [
    "#expect FALSE\n",
    "True in np.isnan(train_mask)"
   ]
  },
  {
   "cell_type": "code",
   "execution_count": 150,
   "id": "256f3f5a",
   "metadata": {},
   "outputs": [
    {
     "name": "stderr",
     "output_type": "stream",
     "text": [
      "100%|█████████████████████████████████████████| 905/905 [00:19<00:00, 47.43it/s]\n"
     ]
    }
   ],
   "source": [
    "train_prostate_set=np.zeros((x,IMG_HEIGHT,IMG_WIDTH,IMG_CHANNELS),dtype=np.float64)\n",
    "train_mask_set=np.zeros((x,IMG_HEIGHT,IMG_WIDTH,1),dtype=np.bool_)\n",
    "for i in tqdm(range(x)):\n",
    "    train_prostate_set[i]=train_prostate[i]\n",
    "    train_mask_set[i]=train_mask[i]"
   ]
  },
  {
   "cell_type": "code",
   "execution_count": 151,
   "id": "8a5e443a",
   "metadata": {},
   "outputs": [
    {
     "data": {
      "text/plain": [
       "(640, 640, 3)"
      ]
     },
     "execution_count": 151,
     "metadata": {},
     "output_type": "execute_result"
    },
    {
     "data": {
      "image/png": "[encoded data removed]",
      "text/plain": [
       "<Figure size 432x288 with 1 Axes>"
      ]
     },
     "metadata": {
      "needs_background": "light"
     },
     "output_type": "display_data"
    }
   ],
   "source": [
    "a=train_prostate_set[0]\n",
    "plt.imshow(a[:,:,0],cmap='gray')\n",
    "a.shape"
   ]
  },
  {
   "cell_type": "code",
   "execution_count": 153,
   "id": "31bfcd50",
   "metadata": {},
   "outputs": [
    {
     "data": {
      "text/plain": [
       "False"
      ]
     },
     "execution_count": 153,
     "metadata": {},
     "output_type": "execute_result"
    }
   ],
   "source": [
    "#Expect FALSE\n",
    "True in np.isnan(train_prostate_set)"
   ]
  },
  {
   "cell_type": "code",
   "execution_count": 156,
   "id": "963e2fec",
   "metadata": {},
   "outputs": [
    {
     "data": {
      "text/plain": [
       "False"
      ]
     },
     "execution_count": 156,
     "metadata": {},
     "output_type": "execute_result"
    }
   ],
   "source": [
    "#Expect FALSE\n",
    "True in np.isnan(train_mask_set)"
   ]
  },
  {
   "cell_type": "code",
   "execution_count": 157,
   "id": "d6265337",
   "metadata": {},
   "outputs": [
    {
     "data": {
      "text/plain": [
       "<matplotlib.image.AxesImage at 0x7f799c5d3550>"
      ]
     },
     "execution_count": 157,
     "metadata": {},
     "output_type": "execute_result"
    },
    {
     "data": {
      "image/png": "[encoded data removed]",
      "text/plain": [
       "<Figure size 432x288 with 1 Axes>"
      ]
     },
     "metadata": {
      "needs_background": "light"
     },
     "output_type": "display_data"
    }
   ],
   "source": [
    "b=train_mask_set[0]\n",
    "plt.imshow(b,cmap='gray')"
   ]
  },
  {
   "cell_type": "markdown",
   "id": "54a693b2",
   "metadata": {},
   "source": [
    "# U-Net Architecture Construction"
   ]
  },
  {
   "cell_type": "code",
   "execution_count": 158,
   "id": "34b48f24",
   "metadata": {},
   "outputs": [
    {
     "name": "stdout",
     "output_type": "stream",
     "text": [
      "Model: \"model_1\"\n",
      "__________________________________________________________________________________________________\n",
      " Layer (type)                   Output Shape         Param #     Connected to                     \n",
      "==================================================================================================\n",
      " input_2 (InputLayer)           [(None, 640, 640, 3  0           []                               \n",
      "                                )]                                                                \n",
      "                                                                                                  \n",
      " conv2d_19 (Conv2D)             (None, 640, 640, 64  1792        ['input_2[0][0]']                \n",
      "                                )                                                                 \n",
      "                                                                                                  \n",
      " dropout_9 (Dropout)            (None, 640, 640, 64  0           ['conv2d_19[0][0]']              \n",
      "                                )                                                                 \n",
      "                                                                                                  \n",
      " conv2d_20 (Conv2D)             (None, 640, 640, 64  36928       ['dropout_9[0][0]']              \n",
      "                                )                                                                 \n",
      "                                                                                                  \n",
      " max_pooling2d_4 (MaxPooling2D)  (None, 320, 320, 64  0          ['conv2d_20[0][0]']              \n",
      "                                )                                                                 \n",
      "                                                                                                  \n",
      " conv2d_21 (Conv2D)             (None, 320, 320, 12  73856       ['max_pooling2d_4[0][0]']        \n",
      "                                8)                                                                \n",
      "                                                                                                  \n",
      " dropout_10 (Dropout)           (None, 320, 320, 12  0           ['conv2d_21[0][0]']              \n",
      "                                8)                                                                \n",
      "                                                                                                  \n",
      " conv2d_22 (Conv2D)             (None, 320, 320, 12  147584      ['dropout_10[0][0]']             \n",
      "                                8)                                                                \n",
      "                                                                                                  \n",
      " max_pooling2d_5 (MaxPooling2D)  (None, 160, 160, 12  0          ['conv2d_22[0][0]']              \n",
      "                                8)                                                                \n",
      "                                                                                                  \n",
      " conv2d_23 (Conv2D)             (None, 160, 160, 25  295168      ['max_pooling2d_5[0][0]']        \n",
      "                                6)                                                                \n",
      "                                                                                                  \n",
      " dropout_11 (Dropout)           (None, 160, 160, 25  0           ['conv2d_23[0][0]']              \n",
      "                                6)                                                                \n",
      "                                                                                                  \n",
      " conv2d_24 (Conv2D)             (None, 160, 160, 25  590080      ['dropout_11[0][0]']             \n",
      "                                6)                                                                \n",
      "                                                                                                  \n",
      " max_pooling2d_6 (MaxPooling2D)  (None, 80, 80, 256)  0          ['conv2d_24[0][0]']              \n",
      "                                                                                                  \n",
      " conv2d_25 (Conv2D)             (None, 80, 80, 512)  1180160     ['max_pooling2d_6[0][0]']        \n",
      "                                                                                                  \n",
      " dropout_12 (Dropout)           (None, 80, 80, 512)  0           ['conv2d_25[0][0]']              \n",
      "                                                                                                  \n",
      " conv2d_26 (Conv2D)             (None, 80, 80, 512)  2359808     ['dropout_12[0][0]']             \n",
      "                                                                                                  \n",
      " max_pooling2d_7 (MaxPooling2D)  (None, 40, 40, 512)  0          ['conv2d_26[0][0]']              \n",
      "                                                                                                  \n",
      " conv2d_27 (Conv2D)             (None, 40, 40, 1024  4719616     ['max_pooling2d_7[0][0]']        \n",
      "                                )                                                                 \n",
      "                                                                                                  \n",
      " dropout_13 (Dropout)           (None, 40, 40, 1024  0           ['conv2d_27[0][0]']              \n",
      "                                )                                                                 \n",
      "                                                                                                  \n",
      " conv2d_28 (Conv2D)             (None, 40, 40, 1024  9438208     ['dropout_13[0][0]']             \n",
      "                                )                                                                 \n",
      "                                                                                                  \n",
      " conv2d_transpose_4 (Conv2DTran  (None, 80, 80, 512)  2097664    ['conv2d_28[0][0]']              \n",
      " spose)                                                                                           \n",
      "                                                                                                  \n",
      " concatenate_4 (Concatenate)    (None, 80, 80, 1024  0           ['conv2d_transpose_4[0][0]',     \n",
      "                                )                                 'conv2d_26[0][0]']              \n",
      "                                                                                                  \n",
      " conv2d_29 (Conv2D)             (None, 80, 80, 512)  4719104     ['concatenate_4[0][0]']          \n",
      "                                                                                                  \n",
      " dropout_14 (Dropout)           (None, 80, 80, 512)  0           ['conv2d_29[0][0]']              \n",
      "                                                                                                  \n",
      " conv2d_30 (Conv2D)             (None, 80, 80, 512)  2359808     ['dropout_14[0][0]']             \n",
      "                                                                                                  \n",
      " conv2d_transpose_5 (Conv2DTran  (None, 160, 160, 25  524544     ['conv2d_30[0][0]']              \n",
      " spose)                         6)                                                                \n",
      "                                                                                                  \n",
      " concatenate_5 (Concatenate)    (None, 160, 160, 51  0           ['conv2d_transpose_5[0][0]',     \n",
      "                                2)                                'conv2d_24[0][0]']              \n",
      "                                                                                                  \n",
      " conv2d_31 (Conv2D)             (None, 160, 160, 25  1179904     ['concatenate_5[0][0]']          \n",
      "                                6)                                                                \n",
      "                                                                                                  \n",
      " dropout_15 (Dropout)           (None, 160, 160, 25  0           ['conv2d_31[0][0]']              \n",
      "                                6)                                                                \n",
      "                                                                                                  \n",
      " conv2d_32 (Conv2D)             (None, 160, 160, 25  590080      ['dropout_15[0][0]']             \n"
     ]
    },
    {
     "name": "stdout",
     "output_type": "stream",
     "text": [
      "                                6)                                                                \n",
      "                                                                                                  \n",
      " conv2d_transpose_6 (Conv2DTran  (None, 320, 320, 12  131200     ['conv2d_32[0][0]']              \n",
      " spose)                         8)                                                                \n",
      "                                                                                                  \n",
      " concatenate_6 (Concatenate)    (None, 320, 320, 25  0           ['conv2d_transpose_6[0][0]',     \n",
      "                                6)                                'conv2d_22[0][0]']              \n",
      "                                                                                                  \n",
      " conv2d_33 (Conv2D)             (None, 320, 320, 12  295040      ['concatenate_6[0][0]']          \n",
      "                                8)                                                                \n",
      "                                                                                                  \n",
      " dropout_16 (Dropout)           (None, 320, 320, 12  0           ['conv2d_33[0][0]']              \n",
      "                                8)                                                                \n",
      "                                                                                                  \n",
      " conv2d_34 (Conv2D)             (None, 320, 320, 12  147584      ['dropout_16[0][0]']             \n",
      "                                8)                                                                \n",
      "                                                                                                  \n",
      " conv2d_transpose_7 (Conv2DTran  (None, 640, 640, 64  32832      ['conv2d_34[0][0]']              \n",
      " spose)                         )                                                                 \n",
      "                                                                                                  \n",
      " concatenate_7 (Concatenate)    (None, 640, 640, 12  0           ['conv2d_transpose_7[0][0]',     \n",
      "                                8)                                'conv2d_20[0][0]']              \n",
      "                                                                                                  \n",
      " conv2d_35 (Conv2D)             (None, 640, 640, 64  73792       ['concatenate_7[0][0]']          \n",
      "                                )                                                                 \n",
      "                                                                                                  \n",
      " dropout_17 (Dropout)           (None, 640, 640, 64  0           ['conv2d_35[0][0]']              \n",
      "                                )                                                                 \n",
      "                                                                                                  \n",
      " conv2d_36 (Conv2D)             (None, 640, 640, 64  36928       ['dropout_17[0][0]']             \n",
      "                                )                                                                 \n",
      "                                                                                                  \n",
      " conv2d_37 (Conv2D)             (None, 640, 640, 1)  65          ['conv2d_36[0][0]']              \n",
      "                                                                                                  \n",
      "==================================================================================================\n",
      "Total params: 31,031,745\n",
      "Trainable params: 31,031,745\n",
      "Non-trainable params: 0\n",
      "__________________________________________________________________________________________________\n"
     ]
    }
   ],
   "source": [
    "#input\n",
    "inputs =tf.keras.layers.Input((IMG_WIDTH,IMG_HEIGHT,IMG_CHANNELS))\n",
    "#encoder-stage 1\n",
    "c1=tf.keras.layers.Conv2D(64,(3,3),activation='relu',kernel_initializer='he_normal', padding='same')(inputs)\n",
    "c1=tf.keras.layers.Dropout(0.1)(c1)\n",
    "c1=tf.keras.layers.Conv2D(64,(3,3),activation='relu',kernel_initializer='he_normal', padding='same')(c1)\n",
    "p1=tf.keras.layers.MaxPooling2D((2,2))(c1)\n",
    "#encoder-stage 2\n",
    "c2=tf.keras.layers.Conv2D(128,(3,3),activation='relu',kernel_initializer='he_normal', padding='same')(p1)\n",
    "c2=tf.keras.layers.Dropout(0.1)(c2)\n",
    "c2=tf.keras.layers.Conv2D(128,(3,3),activation='relu',kernel_initializer='he_normal', padding='same')(c2)\n",
    "p2=tf.keras.layers.MaxPooling2D((2,2))(c2)\n",
    "#encoder-stage 3\n",
    "c3=tf.keras.layers.Conv2D(256,(3,3),activation='relu',kernel_initializer='he_normal', padding='same')(p2)\n",
    "c3=tf.keras.layers.Dropout(0.2)(c3)\n",
    "c3=tf.keras.layers.Conv2D(256,(3,3),activation='relu',kernel_initializer='he_normal', padding='same')(c3)\n",
    "p3=tf.keras.layers.MaxPooling2D((2,2))(c3)\n",
    "#encoder-stage 4\n",
    "c4=tf.keras.layers.Conv2D(512,(3,3),activation='relu',kernel_initializer='he_normal', padding='same')(p3)\n",
    "c4=tf.keras.layers.Dropout(0.2)(c4)\n",
    "c4=tf.keras.layers.Conv2D(512,(3,3),activation='relu',kernel_initializer='he_normal', padding='same')(c4)\n",
    "p4=tf.keras.layers.MaxPooling2D((2,2))(c4)\n",
    "#encoder-stage 5\n",
    "c5=tf.keras.layers.Conv2D(1024,(3,3),activation='relu',kernel_initializer='he_normal', padding='same')(p4)\n",
    "c5=tf.keras.layers.Dropout(0.3)(c5)\n",
    "c5=tf.keras.layers.Conv2D(1024,(3,3),activation='relu',kernel_initializer='he_normal', padding='same')(c5)\n",
    "#decoder-stage 6\n",
    "u6=tf.keras.layers.Conv2DTranspose(512,(2,2),strides=(2,2),padding='same')(c5)\n",
    "u6=tf.keras.layers.concatenate([u6,c4])\n",
    "c6=tf.keras.layers.Conv2D(512,(3,3),activation='relu',kernel_initializer='he_normal', padding='same')(u6)\n",
    "c6=tf.keras.layers.Dropout(0.2)(c6)\n",
    "c6=tf.keras.layers.Conv2D(512,(3,3),activation='relu',kernel_initializer='he_normal', padding='same')(c6)\n",
    "#decoder-stage 7\n",
    "u7=tf.keras.layers.Conv2DTranspose(256,(2,2),strides=(2,2),padding='same')(c6)\n",
    "u7=tf.keras.layers.concatenate([u7,c3])\n",
    "c7=tf.keras.layers.Conv2D(256,(3,3),activation='relu',kernel_initializer='he_normal', padding='same')(u7)\n",
    "c7=tf.keras.layers.Dropout(0.2)(c7)\n",
    "c7=tf.keras.layers.Conv2D(256,(3,3),activation='relu',kernel_initializer='he_normal', padding='same')(c7)\n",
    "#decoder-stage 8\n",
    "u8=tf.keras.layers.Conv2DTranspose(128,(2,2),strides=(2,2),padding='same')(c7)\n",
    "u8=tf.keras.layers.concatenate([u8,c2])\n",
    "c8=tf.keras.layers.Conv2D(128,(3,3),activation='relu',kernel_initializer='he_normal', padding='same')(u8)\n",
    "c8=tf.keras.layers.Dropout(0.1)(c8)\n",
    "c8=tf.keras.layers.Conv2D(128,(3,3),activation='relu',kernel_initializer='he_normal', padding='same')(c8)\n",
    "#decoder-stage 9\n",
    "u9=tf.keras.layers.Conv2DTranspose(64,(2,2),strides=(2,2),padding='same')(c8)\n",
    "u9=tf.keras.layers.concatenate([u9,c1],axis=3)\n",
    "c9=tf.keras.layers.Conv2D(64,(3,3),activation='relu',kernel_initializer='he_normal', padding='same')(u9)\n",
    "c9=tf.keras.layers.Dropout(0.1)(c9)\n",
    "c9=tf.keras.layers.Conv2D(64,(3,3),activation='relu',kernel_initializer='he_normal', padding='same')(c9)\n",
    "#output\n",
    "outputs=tf.keras.layers.Conv2D(1,(1,1),activation='sigmoid')(c9)\n",
    "model=tf.keras.Model(inputs=[inputs], outputs=[outputs])\n",
    "model.compile(optimizer='adam',loss='binary_crossentropy', metrics=['accuracy'])\n",
    "model.summary()"
   ]
  },
  {
   "cell_type": "code",
   "execution_count": 160,
   "id": "f6acb761",
   "metadata": {},
   "outputs": [],
   "source": [
    "#add model checkpoint\n",
    "checkpointer=tf.keras.callbacks.ModelCheckpoint('model_for_prostate_lesion_segmentation.h5', verbose=1, save_best_only=True)\n",
    "callbacks=[\n",
    "    tf.keras.callbacks.EarlyStopping(patience=3, monitor='val_loss'),\n",
    "    tf.keras.callbacks.TensorBoard(log_dir='logs'),\n",
    "    checkpointer\n",
    "]"
   ]
  },
  {
   "cell_type": "code",
   "execution_count": 161,
   "id": "e457c91b",
   "metadata": {},
   "outputs": [
    {
     "data": {
      "text/plain": [
       "(905, 640, 640, 3)"
      ]
     },
     "execution_count": 161,
     "metadata": {},
     "output_type": "execute_result"
    }
   ],
   "source": [
    "train_prostate_set.shape"
   ]
  },
  {
   "cell_type": "code",
   "execution_count": 162,
   "id": "08d6004e",
   "metadata": {},
   "outputs": [
    {
     "data": {
      "text/plain": [
       "(905, 640, 640, 1)"
      ]
     },
     "execution_count": 162,
     "metadata": {},
     "output_type": "execute_result"
    }
   ],
   "source": [
    "train_mask_set.shape"
   ]
  },
  {
   "cell_type": "markdown",
   "id": "d227736a",
   "metadata": {},
   "source": [
    "# U-Net Model Training"
   ]
  },
  {
   "cell_type": "code",
   "execution_count": 163,
   "id": "dde8fb22",
   "metadata": {},
   "outputs": [
    {
     "name": "stdout",
     "output_type": "stream",
     "text": [
      "Epoch 1/25\n",
      "46/46 [==============================] - ETA: 0s - loss: 0.3717 - accuracy: 0.9911  \n",
      "Epoch 1: val_loss improved from inf to 0.01509, saving model to model_for_prostate_lesion_segmentation.h5\n",
      "46/46 [==============================] - 9999s 218s/step - loss: 0.3717 - accuracy: 0.9911 - val_loss: 0.0151 - val_accuracy: 0.9965\n",
      "Epoch 2/25\n",
      "46/46 [==============================] - ETA: 0s - loss: 0.0146 - accuracy: 0.9955  \n",
      "Epoch 2: val_loss improved from 0.01509 to 0.01084, saving model to model_for_prostate_lesion_segmentation.h5\n",
      "46/46 [==============================] - 8407s 183s/step - loss: 0.0146 - accuracy: 0.9955 - val_loss: 0.0108 - val_accuracy: 0.9968\n",
      "Epoch 3/25\n",
      "46/46 [==============================] - ETA: 0s - loss: 0.0124 - accuracy: 0.9959  \n",
      "Epoch 3: val_loss did not improve from 0.01084\n",
      "46/46 [==============================] - 8980s 196s/step - loss: 0.0124 - accuracy: 0.9959 - val_loss: 0.0110 - val_accuracy: 0.9968\n",
      "Epoch 4/25\n",
      "46/46 [==============================] - ETA: 0s - loss: 0.0121 - accuracy: 0.9959  \n",
      "Epoch 4: val_loss did not improve from 0.01084\n",
      "46/46 [==============================] - 8762s 190s/step - loss: 0.0121 - accuracy: 0.9959 - val_loss: 0.0116 - val_accuracy: 0.9968\n",
      "Epoch 5/25\n",
      "46/46 [==============================] - ETA: 0s - loss: 0.0117 - accuracy: 0.9959  \n",
      "Epoch 5: val_loss did not improve from 0.01084\n",
      "46/46 [==============================] - 8732s 190s/step - loss: 0.0117 - accuracy: 0.9959 - val_loss: 0.0116 - val_accuracy: 0.9968\n"
     ]
    }
   ],
   "source": [
    "results=model.fit(train_prostate_set,train_mask_set,validation_split=0.2, batch_size=16, epochs=25, callbacks=callbacks)"
   ]
  },
  {
   "cell_type": "code",
   "execution_count": 164,
   "id": "25fde4a0",
   "metadata": {},
   "outputs": [],
   "source": [
    "#initialize test dataset\n",
    "test_prostate=np.zeros((len(test_patient_list)*30,IMG_HEIGHT,IMG_WIDTH,IMG_CHANNELS),dtype=np.float64)\n",
    "test_mask=np.zeros((len(test_patient_list)*30,IMG_HEIGHT,IMG_WIDTH,1),dtype=np.bool_)"
   ]
  },
  {
   "cell_type": "code",
   "execution_count": 166,
   "id": "0d20b4df",
   "metadata": {},
   "outputs": [],
   "source": [
    "def Test_Dataset_Generator(test_patient_list):\n",
    "    index_tracker=0\n",
    "    for i in tqdm(range(len(test_patient_list))):\n",
    "        loaded_image_list=load_T2W_ADC_HBV_Whole_Gland_Mask(test_patient_list[i])\n",
    "        if(NaN_checker(loaded_image_list[0]) is False):\n",
    "            print(\"Patient \"+str(train_patient_list[i])+\" T2W has NaN value. Thus this patient won't be added to dataset\")\n",
    "        if(NaN_checker(loaded_image_list[1]) is False):\n",
    "            print(\"Patient's \"+str(train_patient_list[i])+\" ADC has NaN value. Thus this patient won't be added to dataset\")\n",
    "        if(NaN_checker(loaded_image_list[2]) is False):\n",
    "            print(\"Patient's \"+str(train_patient_list[i])+\" HBV has NaN value. Thus this patient won't be added to dataset\")\n",
    "        if(NaN_checker(loaded_image_list[3]) is False):\n",
    "            print(\"Patient's \"+str(train_patient_list[i])+\" Whole Gland Mask has NaN value. Thus this patient won't be added to dataset\")\n",
    "        if(NaN_checker(loaded_image_list[0]) and NaN_checker(loaded_image_list[1]) and NaN_checker(loaded_image_list[2]) and NaN_checker(loaded_image_list[3])):\n",
    "            whole_gland_masked_image=prostate_whole_gland_masked(loaded_image_list)\n",
    "            lesion_mask_path=r\"/Users/wangkuancheng/Dropbox/Mac/Desktop/AI_Precision_Lab/Prostate_Image_Cancer_AI/human_annotated_masks/\"+mask_file_format(test_patient_list[i])+r\".nii\"\n",
    "            lesion_mask=nib.load(lesion_mask_path).get_fdata()\n",
    "            lesion_mask = skTrans.resize(lesion_mask, (640,640,lesion_mask.shape[2]), order=1, preserve_range=True)\n",
    "            if(NaN_checker(lesion_mask) is False):\n",
    "                print(\"Patient's \"+str(train_patient_list[i])+\" Lesion Mask has NaN value. Thus this patient won't be added to dataset\")\n",
    "            else:\n",
    "                for j in range(lesion_mask.shape[2]):\n",
    "                    combined_slice_T2W_ADC_HBV=combine_T2W_ADC_HBV_slice_into_3_channels(whole_gland_masked_image[0][:,:,j],whole_gland_masked_image[1][:,:,j],whole_gland_masked_image[2][:,:,j])\n",
    "                    test_prostate[index_tracker]=combined_slice_T2W_ADC_HBV\n",
    "                    test_mask[index_tracker]=convert_lesion_mask_to_3_channels(lesion_mask[:,:,j])\n",
    "                    index_tracker=index_tracker+1\n",
    "            \n",
    "    return index_tracker"
   ]
  },
  {
   "cell_type": "code",
   "execution_count": 167,
   "id": "729987b1",
   "metadata": {},
   "outputs": [
    {
     "name": "stderr",
     "output_type": "stream",
     "text": [
      " 62%|██████████████████████████▍                | 32/52 [03:25<01:39,  4.96s/it]"
     ]
    },
    {
     "name": "stdout",
     "output_type": "stream",
     "text": [
      "Patient's 10252 HBV has NaN value. Thus this patient won't be added to dataset\n"
     ]
    },
    {
     "name": "stderr",
     "output_type": "stream",
     "text": [
      " 69%|█████████████████████████████▊             | 36/52 [03:54<01:35,  5.95s/it]"
     ]
    },
    {
     "name": "stdout",
     "output_type": "stream",
     "text": [
      "Patient's 10274 HBV has NaN value. Thus this patient won't be added to dataset\n"
     ]
    },
    {
     "name": "stderr",
     "output_type": "stream",
     "text": [
      "100%|███████████████████████████████████████████| 52/52 [05:47<00:00,  6.68s/it]\n"
     ]
    }
   ],
   "source": [
    "y=Test_Dataset_Generator(test_patient_list)"
   ]
  },
  {
   "cell_type": "code",
   "execution_count": 168,
   "id": "10a7e473",
   "metadata": {},
   "outputs": [
    {
     "data": {
      "text/plain": [
       "1184"
      ]
     },
     "execution_count": 168,
     "metadata": {},
     "output_type": "execute_result"
    }
   ],
   "source": [
    "y"
   ]
  },
  {
   "cell_type": "code",
   "execution_count": 169,
   "id": "a83c656c",
   "metadata": {},
   "outputs": [
    {
     "data": {
      "text/plain": [
       "False"
      ]
     },
     "execution_count": 169,
     "metadata": {},
     "output_type": "execute_result"
    }
   ],
   "source": [
    "#expect FALSE, which means there aren't any NaN value in the dataset\n",
    "True in np.isnan(test_prostate)"
   ]
  },
  {
   "cell_type": "code",
   "execution_count": 170,
   "id": "6a466ccf",
   "metadata": {},
   "outputs": [
    {
     "data": {
      "text/plain": [
       "False"
      ]
     },
     "execution_count": 170,
     "metadata": {},
     "output_type": "execute_result"
    }
   ],
   "source": [
    "#expect FALSE, which means there aren't any NaN value in the dataset\n",
    "True in np.isnan(test_mask)"
   ]
  },
  {
   "cell_type": "code",
   "execution_count": 171,
   "id": "6a195b6f",
   "metadata": {},
   "outputs": [
    {
     "name": "stderr",
     "output_type": "stream",
     "text": [
      "100%|███████████████████████████████████████| 1184/1184 [00:21<00:00, 55.68it/s]\n"
     ]
    }
   ],
   "source": [
    "#reconstruct the test dataset for the prostate and mask\n",
    "test_prostate_set=np.zeros((y,IMG_HEIGHT,IMG_WIDTH,IMG_CHANNELS),dtype=np.float64)\n",
    "test_mask_set=np.zeros((y,IMG_HEIGHT,IMG_WIDTH,1),dtype=np.float64)\n",
    "for i in tqdm(range(y)):\n",
    "    test_prostate_set[i]=test_prostate[i]\n",
    "    test_mask_set[i]=test_mask[i]"
   ]
  },
  {
   "cell_type": "code",
   "execution_count": 172,
   "id": "81ca2121",
   "metadata": {},
   "outputs": [
    {
     "data": {
      "text/plain": [
       "False"
      ]
     },
     "execution_count": 172,
     "metadata": {},
     "output_type": "execute_result"
    }
   ],
   "source": [
    "#expect FALSE, which means there aren't any NaN value in the dataset\n",
    "True in np.isnan(test_prostate_set)"
   ]
  },
  {
   "cell_type": "code",
   "execution_count": 173,
   "id": "68e98207",
   "metadata": {},
   "outputs": [
    {
     "data": {
      "text/plain": [
       "False"
      ]
     },
     "execution_count": 173,
     "metadata": {},
     "output_type": "execute_result"
    }
   ],
   "source": [
    "#expect FALSE, which means there aren't any NaN value in the dataset\n",
    "True in np.isnan(test_mask_set)"
   ]
  },
  {
   "cell_type": "code",
   "execution_count": 174,
   "id": "748aba66",
   "metadata": {},
   "outputs": [
    {
     "name": "stdout",
     "output_type": "stream",
     "text": [
      "37/37 [==============================] - 2559s 69s/step\n"
     ]
    }
   ],
   "source": [
    "#generated the U-Net predicted masks for the test_prostate_set\n",
    "mask_predicted=model.predict(test_prostate_set)"
   ]
  },
  {
   "cell_type": "code",
   "execution_count": 203,
   "id": "e8bb2d77",
   "metadata": {},
   "outputs": [
    {
     "data": {
      "text/plain": [
       "1184"
      ]
     },
     "execution_count": 203,
     "metadata": {},
     "output_type": "execute_result"
    }
   ],
   "source": [
    "len(mask_predicted)"
   ]
  },
  {
   "cell_type": "markdown",
   "id": "7afe7c0f",
   "metadata": {},
   "source": [
    "# Test My Model"
   ]
  },
  {
   "cell_type": "markdown",
   "id": "f69a3c9a",
   "metadata": {},
   "source": [
    "### Result 1 (unbinary) : I find there are some correspondences between human-annotated mask and U-Net predicted mask in some cases"
   ]
  },
  {
   "cell_type": "code",
   "execution_count": 183,
   "id": "7d57e6cd",
   "metadata": {},
   "outputs": [
    {
     "name": "stdout",
     "output_type": "stream",
     "text": [
      "slice num:  369\n"
     ]
    },
    {
     "data": {
      "text/plain": [
       "(640, 640, 1)"
      ]
     },
     "execution_count": 183,
     "metadata": {},
     "output_type": "execute_result"
    },
    {
     "data": {
      "image/png": "[encoded data removed]",
      "text/plain": [
       "<Figure size 1152x1152 with 3 Axes>"
      ]
     },
     "metadata": {
      "needs_background": "light"
     },
     "output_type": "display_data"
    }
   ],
   "source": [
    "plt.figure(figsize=(16,16))\n",
    "import random\n",
    "slice_num=random.randint(0,len(mask_predicted)-1)\n",
    "print(\"slice num: \", slice_num)\n",
    "\n",
    "#test prostate\n",
    "prostate=test_prostate_set[slice_num][:,:,0]\n",
    "plt.subplot(231)\n",
    "plt.title('prostate')\n",
    "plt.imshow(prostate,cmap='gray')\n",
    "\n",
    "#human annotated lesion_mask\n",
    "human_annotated_mask=test_mask_set[slice_num]\n",
    "plt.subplot(232)\n",
    "plt.title('human annotated mask')\n",
    "plt.imshow(human_annotated_mask,cmap='gray')\n",
    "\n",
    "#U-Net predicted lesion mask\n",
    "predicted_mask=mask_predicted[slice_num]\n",
    "plt.subplot(233)\n",
    "plt.title('U-Net predicted lesion mask')\n",
    "plt.imshow(predicted_mask,cmap='gray')\n",
    "predicted_mask.shape"
   ]
  },
  {
   "cell_type": "code",
   "execution_count": 200,
   "id": "625be21d",
   "metadata": {},
   "outputs": [
    {
     "name": "stdout",
     "output_type": "stream",
     "text": [
      "slice num:  1061\n"
     ]
    },
    {
     "data": {
      "text/plain": [
       "(640, 640, 1)"
      ]
     },
     "execution_count": 200,
     "metadata": {},
     "output_type": "execute_result"
    },
    {
     "data": {
      "image/png": "[encoded data removed]",
      "text/plain": [
       "<Figure size 1152x1152 with 3 Axes>"
      ]
     },
     "metadata": {
      "needs_background": "light"
     },
     "output_type": "display_data"
    }
   ],
   "source": [
    "plt.figure(figsize=(16,16))\n",
    "import random\n",
    "slice_num=random.randint(0,len(mask_predicted)-1)\n",
    "print(\"slice num: \", slice_num)\n",
    "\n",
    "#test prostate\n",
    "prostate=test_prostate_set[slice_num][:,:,0]\n",
    "plt.subplot(231)\n",
    "plt.title('prostate')\n",
    "plt.imshow(prostate,cmap='gray')\n",
    "\n",
    "#human annotated lesion_mask\n",
    "human_annotated_mask=test_mask_set[slice_num]\n",
    "plt.subplot(232)\n",
    "plt.title('human annotated mask')\n",
    "plt.imshow(human_annotated_mask,cmap='gray')\n",
    "\n",
    "#U-Net predicted lesion mask\n",
    "predicted_mask=mask_predicted[slice_num]\n",
    "plt.subplot(233)\n",
    "plt.title('U-Net predicted lesion mask')\n",
    "plt.imshow(predicted_mask,cmap='gray')\n",
    "predicted_mask.shape"
   ]
  },
  {
   "cell_type": "code",
   "execution_count": 225,
   "id": "bd72ce91",
   "metadata": {},
   "outputs": [
    {
     "name": "stdout",
     "output_type": "stream",
     "text": [
      "slice num:  366\n"
     ]
    },
    {
     "data": {
      "text/plain": [
       "(640, 640, 1)"
      ]
     },
     "execution_count": 225,
     "metadata": {},
     "output_type": "execute_result"
    },
    {
     "data": {
      "image/png": "[encoded data removed]",
      "text/plain": [
       "<Figure size 1152x1152 with 3 Axes>"
      ]
     },
     "metadata": {
      "needs_background": "light"
     },
     "output_type": "display_data"
    }
   ],
   "source": [
    "plt.figure(figsize=(16,16))\n",
    "import random\n",
    "slice_num=random.randint(0,len(mask_predicted)-1)\n",
    "print(\"slice num: \", slice_num)\n",
    "\n",
    "#test prostate\n",
    "prostate=test_prostate_set[slice_num][:,:,0]\n",
    "plt.subplot(231)\n",
    "plt.title('prostate')\n",
    "plt.imshow(prostate,cmap='gray')\n",
    "\n",
    "#human annotated lesion_mask\n",
    "human_annotated_mask=test_mask_set[slice_num]\n",
    "plt.subplot(232)\n",
    "plt.title('human annotated mask')\n",
    "plt.imshow(human_annotated_mask,cmap='gray')\n",
    "\n",
    "#U-Net predicted lesion mask\n",
    "predicted_mask=mask_predicted[slice_num]\n",
    "plt.subplot(233)\n",
    "plt.title('U-Net predicted lesion mask')\n",
    "plt.imshow(predicted_mask,cmap='gray')\n",
    "predicted_mask.shape"
   ]
  },
  {
   "cell_type": "markdown",
   "id": "9f760ad7",
   "metadata": {},
   "source": [
    "### Result 2 (binary) : I try to binary the mask for case 434 in the test case"
   ]
  },
  {
   "cell_type": "code",
   "execution_count": 216,
   "id": "41a6f58a",
   "metadata": {},
   "outputs": [
    {
     "data": {
      "text/plain": [
       "<matplotlib.image.AxesImage at 0x7f79b35b9070>"
      ]
     },
     "execution_count": 216,
     "metadata": {},
     "output_type": "execute_result"
    },
    {
     "data": {
      "image/png": "[encoded data removed]",
      "text/plain": [
       "<Figure size 1152x1152 with 3 Axes>"
      ]
     },
     "metadata": {
      "needs_background": "light"
     },
     "output_type": "display_data"
    }
   ],
   "source": [
    "plt.figure(figsize=(16,16))\n",
    "\n",
    "#test prostate\n",
    "prostate=test_prostate_set[434][:,:,0]\n",
    "plt.subplot(231)\n",
    "plt.title('prostate')\n",
    "plt.imshow(prostate,cmap='gray')\n",
    "\n",
    "#human annotated lesion_mask\n",
    "human_annotated_mask=test_mask_set[434]\n",
    "plt.subplot(232)\n",
    "plt.title('human annotated mask')\n",
    "plt.imshow(human_annotated_mask,cmap='gray')\n",
    "\n",
    "#U-Net predicted lesion mask\n",
    "predicted_mask=mask_predicted[434]\n",
    "predicted_mask_binary=(predicted_mask>0.4).astype(np.uint8)\n",
    "plt.subplot(233)\n",
    "plt.title('U-Net predicted lesion mask')\n",
    "plt.imshow(predicted_mask_binary,cmap='gray')"
   ]
  },
  {
   "cell_type": "markdown",
   "id": "7c6917e3",
   "metadata": {},
   "source": [
    "### Result 3 (unbinary) : There is no correspondence between human-annotated mask and U-Net predicted mask  for some cases"
   ]
  },
  {
   "cell_type": "code",
   "execution_count": 201,
   "id": "54106ae6",
   "metadata": {},
   "outputs": [
    {
     "name": "stdout",
     "output_type": "stream",
     "text": [
      "slice num:  867\n"
     ]
    },
    {
     "data": {
      "text/plain": [
       "(640, 640, 1)"
      ]
     },
     "execution_count": 201,
     "metadata": {},
     "output_type": "execute_result"
    },
    {
     "data": {
      "image/png": "[encoded data removed]",
      "text/plain": [
       "<Figure size 1152x1152 with 3 Axes>"
      ]
     },
     "metadata": {
      "needs_background": "light"
     },
     "output_type": "display_data"
    }
   ],
   "source": [
    "plt.figure(figsize=(16,16))\n",
    "import random\n",
    "slice_num=random.randint(0,len(mask_predicted)-1)\n",
    "print(\"slice num: \", slice_num)\n",
    "\n",
    "#test prostate\n",
    "prostate=test_prostate_set[slice_num][:,:,0]\n",
    "plt.subplot(231)\n",
    "plt.title('prostate')\n",
    "plt.imshow(prostate,cmap='gray')\n",
    "\n",
    "#human annotated lesion_mask\n",
    "human_annotated_mask=test_mask_set[slice_num]\n",
    "plt.subplot(232)\n",
    "plt.title('human annotated mask')\n",
    "plt.imshow(human_annotated_mask,cmap='gray')\n",
    "\n",
    "#U-Net predicted lesion mask\n",
    "predicted_mask=mask_predicted[slice_num]\n",
    "plt.subplot(233)\n",
    "plt.title('U-Net predicted lesion mask')\n",
    "plt.imshow(predicted_mask,cmap='gray')\n",
    "predicted_mask.shape"
   ]
  },
  {
   "cell_type": "markdown",
   "id": "42feba78",
   "metadata": {},
   "source": [
    "### Result 4 (unbinary) : For certain slice, there is no lesion mask annotated by human, which means there shouldn't be any lesion in this case. However, U-Net Model still output something, which means my model has some problems"
   ]
  },
  {
   "cell_type": "code",
   "execution_count": 198,
   "id": "f959919f",
   "metadata": {},
   "outputs": [
    {
     "name": "stdout",
     "output_type": "stream",
     "text": [
      "slice num:  170\n"
     ]
    },
    {
     "data": {
      "text/plain": [
       "(640, 640, 1)"
      ]
     },
     "execution_count": 198,
     "metadata": {},
     "output_type": "execute_result"
    },
    {
     "data": {
      "image/png": "[encoded data removed]",
      "text/plain": [
       "<Figure size 1152x1152 with 3 Axes>"
      ]
     },
     "metadata": {
      "needs_background": "light"
     },
     "output_type": "display_data"
    }
   ],
   "source": [
    "plt.figure(figsize=(16,16))\n",
    "import random\n",
    "slice_num=random.randint(0,len(mask_predicted)-1)\n",
    "print(\"slice num: \", slice_num)\n",
    "\n",
    "#test prostate\n",
    "prostate=test_prostate_set[slice_num][:,:,0]\n",
    "plt.subplot(231)\n",
    "plt.title('prostate')\n",
    "plt.imshow(prostate,cmap='gray')\n",
    "\n",
    "#human annotated lesion_mask\n",
    "human_annotated_mask=test_mask_set[slice_num]\n",
    "plt.subplot(232)\n",
    "plt.title('human annotated mask')\n",
    "plt.imshow(human_annotated_mask,cmap='gray')\n",
    "\n",
    "#U-Net predicted lesion mask\n",
    "predicted_mask=mask_predicted[slice_num]\n",
    "plt.subplot(233)\n",
    "plt.title('U-Net predicted lesion mask')\n",
    "plt.imshow(predicted_mask,cmap='gray')\n",
    "predicted_mask.shape"
   ]
  },
  {
   "cell_type": "markdown",
   "id": "85742275",
   "metadata": {},
   "source": [
    "### Result 3 (unbinary) : Prostate MRI T2W slice, human-annotated mask and U-Net predicted mask only contain 0s. This case is also strange to me since I don't think T2W should only contain 0s anytime."
   ]
  },
  {
   "cell_type": "code",
   "execution_count": 202,
   "id": "20ac3d15",
   "metadata": {},
   "outputs": [
    {
     "name": "stdout",
     "output_type": "stream",
     "text": [
      "slice num:  1048\n"
     ]
    },
    {
     "data": {
      "text/plain": [
       "(640, 640, 1)"
      ]
     },
     "execution_count": 202,
     "metadata": {},
     "output_type": "execute_result"
    },
    {
     "data": {
      "image/png": "[encoded data removed]",
      "text/plain": [
       "<Figure size 1152x1152 with 3 Axes>"
      ]
     },
     "metadata": {
      "needs_background": "light"
     },
     "output_type": "display_data"
    }
   ],
   "source": [
    "plt.figure(figsize=(16,16))\n",
    "import random\n",
    "slice_num=random.randint(0,len(mask_predicted)-1)\n",
    "print(\"slice num: \", slice_num)\n",
    "\n",
    "#test prostate\n",
    "prostate=test_prostate_set[slice_num][:,:,0]\n",
    "plt.subplot(231)\n",
    "plt.title('prostate')\n",
    "plt.imshow(prostate,cmap='gray')\n",
    "\n",
    "#human annotated lesion_mask\n",
    "human_annotated_mask=test_mask_set[slice_num]\n",
    "plt.subplot(232)\n",
    "plt.title('human annotated mask')\n",
    "plt.imshow(human_annotated_mask,cmap='gray')\n",
    "\n",
    "#U-Net predicted lesion mask\n",
    "predicted_mask=mask_predicted[slice_num]\n",
    "plt.subplot(233)\n",
    "plt.title('U-Net predicted lesion mask')\n",
    "plt.imshow(predicted_mask,cmap='gray')\n",
    "predicted_mask.shape"
   ]
  },
  {
   "cell_type": "code",
   "execution_count": null,
   "id": "776023dd",
   "metadata": {},
   "outputs": [],
   "source": []
  }
 ],
 "metadata": {
  "kernelspec": {
   "display_name": "Python 3 (ipykernel)",
   "language": "python",
   "name": "python3"
  },
  "language_info": {
   "codemirror_mode": {
    "name": "ipython",
    "version": 3
   },
   "file_extension": ".py",
   "mimetype": "text/x-python",
   "name": "python",
   "nbconvert_exporter": "python",
   "pygments_lexer": "ipython3",
   "version": "3.9.12"
  }
 },
 "nbformat": 4,
 "nbformat_minor": 5
}
